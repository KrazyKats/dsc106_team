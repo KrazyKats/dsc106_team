{
 "cells": [
  {
   "cell_type": "markdown",
   "id": "8d5cd18c",
   "metadata": {},
   "source": [
    "# Patient Data"
   ]
  },
  {
   "cell_type": "code",
   "execution_count": null,
   "id": "6906d118",
   "metadata": {},
   "outputs": [
    {
     "name": "stdout",
     "output_type": "stream",
     "text": [
      "Data has been successfully written to ./Output/jsons/Demographics.json\n"
     ]
    }
   ],
   "source": [
    "import pandas as pd\n",
    "import os\n",
    "import json\n",
    "import csv\n",
    "\n",
    "# Define file paths\n",
    "csv_file_path = '../data/Demographics.csv'\n",
    "output_dir = './Output/jsons/'\n",
    "output_file_path = os.path.join(output_dir, 'Demographics.json')\n",
    "\n",
    "# Create output directory if it doesn't exist\n",
    "os.makedirs(output_dir, exist_ok=True)\n",
    "\n",
    "# Read the CSV file\n",
    "df = pd.read_csv(csv_file_path)\n",
    "\n",
    "# Convert the DataFrame to a JSON object\n",
    "data_json = df.to_dict(orient='records')\n",
    "\n",
    "# Write the JSON object to a file\n",
    "with open(output_file_path, 'w') as json_file:\n",
    "    json.dump(data_json, json_file, indent=4)\n",
    "\n",
    "print(f\"Data has been successfully written to {output_file_path}\")"
   ]
  },
  {
   "cell_type": "markdown",
   "id": "06dcf6b3",
   "metadata": {},
   "source": [
    "# Glucose Data"
   ]
  },
  {
   "cell_type": "code",
   "execution_count": 13,
   "id": "35af210a",
   "metadata": {},
   "outputs": [],
   "source": [
    "# Define the input file and output directory\n",
    "data_dir = \"../data/\"\n",
    "\n",
    "# Ensure the output directory exists\n",
    "os.makedirs(output_dir, exist_ok=True)\n",
    "\n",
    "# Initialize the dictionary to store the data\n",
    "data_dict = {}\n",
    "\n",
    "#traverse teh data directory to find the Dexcom CSV file\n",
    "input_file_dir = {}\n",
    "for root, dirs, files in os.walk(data_dir):\n",
    "    for file in files:\n",
    "        if file.startswith(\"Dexcom\"):\n",
    "            # get name of directory file is in\n",
    "            dir_name = os.path.basename(root)\n",
    "\n",
    "            input_file_dir[dir_name] = os.path.join(root, file)\n",
    "            break  # Stop after finding the first Dexcom file in directory\n",
    "\n",
    "# read each Dexcom file and append the data to the dictionary\n",
    "for key, value in input_file_dir.items():\n",
    "    # Load the full CSV\n",
    "    df = pd.read_csv(value)\n",
    "\n",
    "    # Filter for glucose events (Event Type == 'EGV')\n",
    "    df_egv = df[df['Event Type'] == 'EGV'].copy()\n",
    "\n",
    "    # Convert timestamp to datetime format\n",
    "    df_egv['Timestamp (YYYY-MM-DDThh:mm:ss)'] = pd.to_datetime(df_egv['Timestamp (YYYY-MM-DDThh:mm:ss)'])\n",
    "\n",
    "    # Rename columns for clarity\n",
    "    df_egv.rename(columns={\n",
    "        'Timestamp (YYYY-MM-DDThh:mm:ss)': 'timestamp',\n",
    "        'Glucose Value (mg/dL)': 'glucose',\n",
    "    }, inplace=True)\n",
    "\n",
    "    # Keep only relevant columns\n",
    "    df_egv = df_egv[['timestamp', 'glucose']].reset_index(drop=True)\n",
    "\n",
    "    # Convert timestamp to ISO format\n",
    "    df_egv['timestamp'] = df_egv['timestamp'].dt.strftime('%Y-%m-%dT%H:%M:%S')\n",
    "\n",
    "    # Convert Datafrsame to dictionary\n",
    "    data_dict[key] = df_egv.to_dict(orient='records')\n",
    "\n",
    "# Write the data to a JSON file\n",
    "output_file_path = os.path.join(output_dir, 'glucose.json')\n",
    "with open(output_file_path, 'w') as json_file:\n",
    "    json.dump(data_dict, json_file, indent=4)"
   ]
  },
  {
   "cell_type": "markdown",
   "id": "da019229",
   "metadata": {},
   "source": [
    "# Prelim Food_logs"
   ]
  },
  {
   "cell_type": "code",
   "execution_count": 34,
   "id": "6842b82d",
   "metadata": {},
   "outputs": [
    {
     "name": "stdout",
     "output_type": "stream",
     "text": [
      "001\n",
      "002\n",
      "004\n",
      "005\n",
      "006\n",
      "007\n",
      "008\n",
      "009\n",
      "010\n",
      "011\n",
      "012\n",
      "013\n",
      "014\n",
      "015\n",
      "016\n"
     ]
    }
   ],
   "source": [
    "# Define the input file and output directory\n",
    "data_dir = \"../data/\"\n",
    "\n",
    "# Ensure the output directory exists\n",
    "os.makedirs(output_dir, exist_ok=True)\n",
    "\n",
    "# Initialize the list to store the data\n",
    "data_list = []\n",
    "\n",
    "#traverse teh data directory to find the Dexcom CSV file\n",
    "input_file_dir = {}\n",
    "for root, dirs, files in os.walk(data_dir):\n",
    "    for file in files:\n",
    "        if file.startswith(\"Food_Log\"):\n",
    "            # get name of directory file is in\n",
    "            dir_name = os.path.basename(root)\n",
    "\n",
    "            input_file_dir[dir_name] = os.path.join(root, file)\n",
    "            break  # Stop after finding the first Dexcom file in directory\n",
    "\n",
    "\n",
    "# read each Dexcom file and append the data to the dictionary\n",
    "for key, value in input_file_dir.items():\n",
    "\n",
    "    if key == \"003\":\n",
    "        # Skip the first file\n",
    "        continue\n",
    "\n",
    "    print(key)\n",
    "    # Load the CSV file\n",
    "    df_food_log = pd.read_csv(value)\n",
    "\n",
    "    # Combine 'date' and 'time' into a single datetime column\n",
    "    df_food_log['datetime'] = pd.to_datetime(df_food_log['date'] + ' ' + df_food_log['time'])\n",
    "\n",
    "    # Reorder columns\n",
    "    cols = ['datetime'] + [col for col in df_food_log.columns if col != 'datetime']\n",
    "    df_food_log = df_food_log[cols]\n",
    "\n",
    "    # Convert nutrition columns to numeric\n",
    "    numeric_cols = ['calorie', 'total_carb', 'dietary_fiber', 'sugar', 'protein', 'total_fat']\n",
    "    df_food_log[numeric_cols] = df_food_log[numeric_cols].apply(pd.to_numeric, errors='coerce')\n",
    "\n",
    "    # add coloumn for patiendent ID\n",
    "    df_food_log['ID'] = key\n",
    "\n",
    "    #add empty columns for tags\n",
    "    df_food_log['tags'] = \"\"\n",
    "\n",
    "\n",
    "    # Convert timestamp to ISO format\n",
    "    df_food_log['datetime'] = df_food_log['datetime'].dt.strftime('%Y-%m-%dT%H:%M:%S')\n",
    "\n",
    "    # Convert Datafrsame to dictionary\n",
    "    data_list.extend(df_food_log.to_dict(orient='records'))\n",
    "\n",
    "#save the data to a JSON file\n",
    "output_file_path = os.path.join(output_dir, 'food_log.json')\n",
    "with open(output_file_path, 'w') as json_file:\n",
    "    json.dump(data_list, json_file, indent=4)\n"
   ]
  },
  {
   "cell_type": "code",
   "execution_count": null,
   "id": "e93355cf",
   "metadata": {},
   "outputs": [
    {
     "data": {
      "text/plain": [
       "{'001': '../data/001\\\\Food_Log_001.csv',\n",
       " '002': '../data/002\\\\Food_Log_002.csv',\n",
       " '003': '../data/003\\\\Food_Log_003.csv',\n",
       " '004': '../data/004\\\\Food_Log_004.csv',\n",
       " '005': '../data/005\\\\Food_Log_005.csv',\n",
       " '006': '../data/006\\\\Food_Log_006.csv',\n",
       " '007': '../data/007\\\\Food_Log_007.csv',\n",
       " '008': '../data/008\\\\Food_Log_008.csv',\n",
       " '009': '../data/009\\\\Food_Log_009.csv',\n",
       " '010': '../data/010\\\\Food_Log_010.csv',\n",
       " '011': '../data/011\\\\Food_Log_011.csv',\n",
       " '012': '../data/012\\\\Food_Log_012.csv',\n",
       " '013': '../data/013\\\\Food_Log_013.csv',\n",
       " '014': '../data/014\\\\Food_Log_014.csv',\n",
       " '015': '../data/015\\\\Food_Log_015.csv',\n",
       " '016': '../data/016\\\\Food_Log_016.csv'}"
      ]
     },
     "execution_count": 18,
     "metadata": {},
     "output_type": "execute_result"
    }
   ],
   "source": []
  },
  {
   "cell_type": "code",
   "execution_count": null,
   "id": "1a61792e",
   "metadata": {},
   "outputs": [],
   "source": []
  }
 ],
 "metadata": {
  "kernelspec": {
   "display_name": "Python 3",
   "language": "python",
   "name": "python3"
  },
  "language_info": {
   "codemirror_mode": {
    "name": "ipython",
    "version": 3
   },
   "file_extension": ".py",
   "mimetype": "text/x-python",
   "name": "python",
   "nbconvert_exporter": "python",
   "pygments_lexer": "ipython3",
   "version": "3.12.6"
  }
 },
 "nbformat": 4,
 "nbformat_minor": 5
}
