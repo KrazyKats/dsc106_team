{
 "cells": [
  {
   "cell_type": "markdown",
   "id": "cb3fe087-e9b7-4d4b-aa54-5d91f031d3cd",
   "metadata": {},
   "source": [
    "# VitalDB\n",
    "Source: [VitalDB Website](https://vitaldb.net/dataset/?query=overview)"
   ]
  },
  {
   "cell_type": "code",
   "execution_count": 1,
   "id": "63cf3266-2ead-4990-8252-4480dccf8f8b",
   "metadata": {},
   "outputs": [],
   "source": [
    "# Imports and setup\n",
    "import vitaldb\n",
    "import numpy as np\n",
    "import pandas as pd\n",
    "import matplotlib.pyplot as plt"
   ]
  },
  {
   "cell_type": "code",
   "execution_count": 7,
   "id": "678ef14f-d9b7-499c-8c30-4e4b9547cda3",
   "metadata": {},
   "outputs": [],
   "source": [
    "cases = pd.read_csv(\"https://api.vitaldb.net/cases\")\n",
    "trks = pd.read_csv(\"https://api.vitaldb.net/trks\")\n",
    "labs = pd.read_csv(\"https://api.vitaldb.net/labs\")"
   ]
  },
  {
   "cell_type": "code",
   "execution_count": 14,
   "id": "c4e43b76-9986-424f-8e83-de1b3a7855ff",
   "metadata": {},
   "outputs": [
    {
     "data": {
      "text/html": [
       "<div>\n",
       "<style scoped>\n",
       "    .dataframe tbody tr th:only-of-type {\n",
       "        vertical-align: middle;\n",
       "    }\n",
       "\n",
       "    .dataframe tbody tr th {\n",
       "        vertical-align: top;\n",
       "    }\n",
       "\n",
       "    .dataframe thead th {\n",
       "        text-align: right;\n",
       "    }\n",
       "</style>\n",
       "<table border=\"1\" class=\"dataframe\">\n",
       "  <thead>\n",
       "    <tr style=\"text-align: right;\">\n",
       "      <th></th>\n",
       "      <th>caseid</th>\n",
       "      <th>subjectid</th>\n",
       "      <th>casestart</th>\n",
       "      <th>caseend</th>\n",
       "      <th>anestart</th>\n",
       "      <th>aneend</th>\n",
       "      <th>opstart</th>\n",
       "      <th>opend</th>\n",
       "      <th>adm</th>\n",
       "      <th>dis</th>\n",
       "      <th>...</th>\n",
       "      <th>intraop_colloid</th>\n",
       "      <th>intraop_ppf</th>\n",
       "      <th>intraop_mdz</th>\n",
       "      <th>intraop_ftn</th>\n",
       "      <th>intraop_rocu</th>\n",
       "      <th>intraop_vecu</th>\n",
       "      <th>intraop_eph</th>\n",
       "      <th>intraop_phe</th>\n",
       "      <th>intraop_epi</th>\n",
       "      <th>intraop_ca</th>\n",
       "    </tr>\n",
       "  </thead>\n",
       "  <tbody>\n",
       "    <tr>\n",
       "      <th>0</th>\n",
       "      <td>1</td>\n",
       "      <td>5955</td>\n",
       "      <td>0</td>\n",
       "      <td>11542</td>\n",
       "      <td>-552</td>\n",
       "      <td>10848.0</td>\n",
       "      <td>1668</td>\n",
       "      <td>10368</td>\n",
       "      <td>-236220</td>\n",
       "      <td>627780</td>\n",
       "      <td>...</td>\n",
       "      <td>0</td>\n",
       "      <td>120</td>\n",
       "      <td>0.0</td>\n",
       "      <td>100</td>\n",
       "      <td>70</td>\n",
       "      <td>0</td>\n",
       "      <td>10</td>\n",
       "      <td>0</td>\n",
       "      <td>0</td>\n",
       "      <td>0</td>\n",
       "    </tr>\n",
       "    <tr>\n",
       "      <th>1</th>\n",
       "      <td>2</td>\n",
       "      <td>2487</td>\n",
       "      <td>0</td>\n",
       "      <td>15741</td>\n",
       "      <td>-1039</td>\n",
       "      <td>14921.0</td>\n",
       "      <td>1721</td>\n",
       "      <td>14621</td>\n",
       "      <td>-221160</td>\n",
       "      <td>1506840</td>\n",
       "      <td>...</td>\n",
       "      <td>0</td>\n",
       "      <td>150</td>\n",
       "      <td>0.0</td>\n",
       "      <td>0</td>\n",
       "      <td>100</td>\n",
       "      <td>0</td>\n",
       "      <td>20</td>\n",
       "      <td>0</td>\n",
       "      <td>0</td>\n",
       "      <td>0</td>\n",
       "    </tr>\n",
       "    <tr>\n",
       "      <th>2</th>\n",
       "      <td>3</td>\n",
       "      <td>2861</td>\n",
       "      <td>0</td>\n",
       "      <td>4394</td>\n",
       "      <td>-590</td>\n",
       "      <td>4210.0</td>\n",
       "      <td>1090</td>\n",
       "      <td>3010</td>\n",
       "      <td>-218640</td>\n",
       "      <td>40560</td>\n",
       "      <td>...</td>\n",
       "      <td>0</td>\n",
       "      <td>0</td>\n",
       "      <td>0.0</td>\n",
       "      <td>0</td>\n",
       "      <td>50</td>\n",
       "      <td>0</td>\n",
       "      <td>0</td>\n",
       "      <td>0</td>\n",
       "      <td>0</td>\n",
       "      <td>0</td>\n",
       "    </tr>\n",
       "    <tr>\n",
       "      <th>3</th>\n",
       "      <td>4</td>\n",
       "      <td>1903</td>\n",
       "      <td>0</td>\n",
       "      <td>20990</td>\n",
       "      <td>-778</td>\n",
       "      <td>20222.0</td>\n",
       "      <td>2522</td>\n",
       "      <td>17822</td>\n",
       "      <td>-201120</td>\n",
       "      <td>576480</td>\n",
       "      <td>...</td>\n",
       "      <td>0</td>\n",
       "      <td>80</td>\n",
       "      <td>0.0</td>\n",
       "      <td>100</td>\n",
       "      <td>100</td>\n",
       "      <td>0</td>\n",
       "      <td>50</td>\n",
       "      <td>0</td>\n",
       "      <td>0</td>\n",
       "      <td>0</td>\n",
       "    </tr>\n",
       "    <tr>\n",
       "      <th>4</th>\n",
       "      <td>5</td>\n",
       "      <td>4416</td>\n",
       "      <td>0</td>\n",
       "      <td>21531</td>\n",
       "      <td>-1009</td>\n",
       "      <td>22391.0</td>\n",
       "      <td>2591</td>\n",
       "      <td>20291</td>\n",
       "      <td>-67560</td>\n",
       "      <td>3734040</td>\n",
       "      <td>...</td>\n",
       "      <td>0</td>\n",
       "      <td>0</td>\n",
       "      <td>0.0</td>\n",
       "      <td>0</td>\n",
       "      <td>160</td>\n",
       "      <td>0</td>\n",
       "      <td>10</td>\n",
       "      <td>900</td>\n",
       "      <td>0</td>\n",
       "      <td>2100</td>\n",
       "    </tr>\n",
       "  </tbody>\n",
       "</table>\n",
       "<p>5 rows × 74 columns</p>\n",
       "</div>"
      ],
      "text/plain": [
       "   caseid  subjectid  casestart  caseend  anestart   aneend  opstart  opend  \\\n",
       "0       1       5955          0    11542      -552  10848.0     1668  10368   \n",
       "1       2       2487          0    15741     -1039  14921.0     1721  14621   \n",
       "2       3       2861          0     4394      -590   4210.0     1090   3010   \n",
       "3       4       1903          0    20990      -778  20222.0     2522  17822   \n",
       "4       5       4416          0    21531     -1009  22391.0     2591  20291   \n",
       "\n",
       "      adm      dis  ...  intraop_colloid  intraop_ppf  intraop_mdz  \\\n",
       "0 -236220   627780  ...                0          120          0.0   \n",
       "1 -221160  1506840  ...                0          150          0.0   \n",
       "2 -218640    40560  ...                0            0          0.0   \n",
       "3 -201120   576480  ...                0           80          0.0   \n",
       "4  -67560  3734040  ...                0            0          0.0   \n",
       "\n",
       "  intraop_ftn  intraop_rocu  intraop_vecu  intraop_eph  intraop_phe  \\\n",
       "0         100            70             0           10            0   \n",
       "1           0           100             0           20            0   \n",
       "2           0            50             0            0            0   \n",
       "3         100           100             0           50            0   \n",
       "4           0           160             0           10          900   \n",
       "\n",
       "   intraop_epi intraop_ca  \n",
       "0            0          0  \n",
       "1            0          0  \n",
       "2            0          0  \n",
       "3            0          0  \n",
       "4            0       2100  \n",
       "\n",
       "[5 rows x 74 columns]"
      ]
     },
     "execution_count": 14,
     "metadata": {},
     "output_type": "execute_result"
    }
   ],
   "source": [
    "cases.head()"
   ]
  },
  {
   "cell_type": "code",
   "execution_count": 15,
   "id": "ebe21964-2b47-4600-8807-b196d0964218",
   "metadata": {},
   "outputs": [
    {
     "data": {
      "text/html": [
       "<div>\n",
       "<style scoped>\n",
       "    .dataframe tbody tr th:only-of-type {\n",
       "        vertical-align: middle;\n",
       "    }\n",
       "\n",
       "    .dataframe tbody tr th {\n",
       "        vertical-align: top;\n",
       "    }\n",
       "\n",
       "    .dataframe thead th {\n",
       "        text-align: right;\n",
       "    }\n",
       "</style>\n",
       "<table border=\"1\" class=\"dataframe\">\n",
       "  <thead>\n",
       "    <tr style=\"text-align: right;\">\n",
       "      <th></th>\n",
       "      <th>caseid</th>\n",
       "      <th>tname</th>\n",
       "      <th>tid</th>\n",
       "    </tr>\n",
       "  </thead>\n",
       "  <tbody>\n",
       "    <tr>\n",
       "      <th>0</th>\n",
       "      <td>1</td>\n",
       "      <td>BIS/BIS</td>\n",
       "      <td>fd869e25ba82a66cc95b38ed47110bf4f14bb368</td>\n",
       "    </tr>\n",
       "    <tr>\n",
       "      <th>1</th>\n",
       "      <td>1</td>\n",
       "      <td>BIS/EEG1_WAV</td>\n",
       "      <td>0aa685df768489a18a5e9f53af0d83bf60890c73</td>\n",
       "    </tr>\n",
       "    <tr>\n",
       "      <th>2</th>\n",
       "      <td>1</td>\n",
       "      <td>BIS/EEG2_WAV</td>\n",
       "      <td>ad13b2c39b19193c8ae4a2de4f8315f18d61a57e</td>\n",
       "    </tr>\n",
       "    <tr>\n",
       "      <th>3</th>\n",
       "      <td>1</td>\n",
       "      <td>BIS/EMG</td>\n",
       "      <td>2525603efe18d982764dbca457affe7a45e766a9</td>\n",
       "    </tr>\n",
       "    <tr>\n",
       "      <th>4</th>\n",
       "      <td>1</td>\n",
       "      <td>BIS/SEF</td>\n",
       "      <td>1c91aec859304840dec75acf4a35da78be0e8ef0</td>\n",
       "    </tr>\n",
       "  </tbody>\n",
       "</table>\n",
       "</div>"
      ],
      "text/plain": [
       "   caseid         tname                                       tid\n",
       "0       1       BIS/BIS  fd869e25ba82a66cc95b38ed47110bf4f14bb368\n",
       "1       1  BIS/EEG1_WAV  0aa685df768489a18a5e9f53af0d83bf60890c73\n",
       "2       1  BIS/EEG2_WAV  ad13b2c39b19193c8ae4a2de4f8315f18d61a57e\n",
       "3       1       BIS/EMG  2525603efe18d982764dbca457affe7a45e766a9\n",
       "4       1       BIS/SEF  1c91aec859304840dec75acf4a35da78be0e8ef0"
      ]
     },
     "execution_count": 15,
     "metadata": {},
     "output_type": "execute_result"
    }
   ],
   "source": [
    "trks.head()"
   ]
  },
  {
   "cell_type": "code",
   "execution_count": 16,
   "id": "fa9097ad-489d-4044-938d-76e33e4b6db0",
   "metadata": {},
   "outputs": [
    {
     "data": {
      "text/html": [
       "<div>\n",
       "<style scoped>\n",
       "    .dataframe tbody tr th:only-of-type {\n",
       "        vertical-align: middle;\n",
       "    }\n",
       "\n",
       "    .dataframe tbody tr th {\n",
       "        vertical-align: top;\n",
       "    }\n",
       "\n",
       "    .dataframe thead th {\n",
       "        text-align: right;\n",
       "    }\n",
       "</style>\n",
       "<table border=\"1\" class=\"dataframe\">\n",
       "  <thead>\n",
       "    <tr style=\"text-align: right;\">\n",
       "      <th></th>\n",
       "      <th>caseid</th>\n",
       "      <th>dt</th>\n",
       "      <th>name</th>\n",
       "      <th>result</th>\n",
       "    </tr>\n",
       "  </thead>\n",
       "  <tbody>\n",
       "    <tr>\n",
       "      <th>0</th>\n",
       "      <td>1</td>\n",
       "      <td>594470</td>\n",
       "      <td>alb</td>\n",
       "      <td>2.9</td>\n",
       "    </tr>\n",
       "    <tr>\n",
       "      <th>1</th>\n",
       "      <td>1</td>\n",
       "      <td>399575</td>\n",
       "      <td>alb</td>\n",
       "      <td>3.2</td>\n",
       "    </tr>\n",
       "    <tr>\n",
       "      <th>2</th>\n",
       "      <td>1</td>\n",
       "      <td>12614</td>\n",
       "      <td>alb</td>\n",
       "      <td>3.4</td>\n",
       "    </tr>\n",
       "    <tr>\n",
       "      <th>3</th>\n",
       "      <td>1</td>\n",
       "      <td>137855</td>\n",
       "      <td>alb</td>\n",
       "      <td>3.6</td>\n",
       "    </tr>\n",
       "    <tr>\n",
       "      <th>4</th>\n",
       "      <td>1</td>\n",
       "      <td>399575</td>\n",
       "      <td>alt</td>\n",
       "      <td>12.0</td>\n",
       "    </tr>\n",
       "  </tbody>\n",
       "</table>\n",
       "</div>"
      ],
      "text/plain": [
       "   caseid      dt name  result\n",
       "0       1  594470  alb     2.9\n",
       "1       1  399575  alb     3.2\n",
       "2       1   12614  alb     3.4\n",
       "3       1  137855  alb     3.6\n",
       "4       1  399575  alt    12.0"
      ]
     },
     "execution_count": 16,
     "metadata": {},
     "output_type": "execute_result"
    }
   ],
   "source": [
    "labs.head()"
   ]
  },
  {
   "cell_type": "markdown",
   "id": "7ac95816-b2ab-4925-babb-19041e980a4c",
   "metadata": {},
   "source": [
    "#### Example Exploration"
   ]
  },
  {
   "cell_type": "code",
   "execution_count": 8,
   "id": "9753e14a-50be-422c-8539-581859bbf67c",
   "metadata": {},
   "outputs": [],
   "source": [
    "lap_chole = cases[cases['opname'].str.contains(\"chole\", case=False)]\n",
    "subset_ids = lap_chole['caseid'].head(10).tolist()"
   ]
  },
  {
   "cell_type": "code",
   "execution_count": 9,
   "id": "37d5d6c7-356b-4196-b5a5-7af6c43ca518",
   "metadata": {},
   "outputs": [],
   "source": [
    "from vitaldb import VitalFile\n",
    "\n",
    "explored_cases = {}\n",
    "\n",
    "for cid in subset_ids:\n",
    "    try:\n",
    "        vf = VitalFile(cid, ['HR', 'ART_MBP', 'SPO2'])\n",
    "        df = vf.to_pandas(['HR', 'ART_MBP', 'SPO2'], interval=1, return_datetime=True)\n",
    "        explored_cases[cid] = df\n",
    "    except:\n",
    "        print(f\"Skipping case {cid}\")"
   ]
  },
  {
   "cell_type": "code",
   "execution_count": 11,
   "id": "05869521-258c-4fcf-a69a-d74eefaff410",
   "metadata": {},
   "outputs": [],
   "source": [
    "# for cid, df in explored_cases.items():\n",
    "#     df.plot(title=f\"Case {cid}\", figsize=(15,4))\n",
    "#     plt.show()"
   ]
  },
  {
   "cell_type": "code",
   "execution_count": 12,
   "id": "1bcc4b15-2085-43eb-a784-c0eb998eb9c9",
   "metadata": {},
   "outputs": [],
   "source": [
    "summary_rows = []\n",
    "\n",
    "for cid, df in explored_cases.items():\n",
    "    row = {\n",
    "        'caseid': cid,\n",
    "        'min_map': df['ART_MBP'].min(),\n",
    "        'mean_hr': df['HR'].mean(),\n",
    "        'max_spo2_drop': 100 - df['SPO2'].min(),\n",
    "    }\n",
    "    summary_rows.append(row)\n",
    "\n",
    "summary_df = pd.DataFrame(summary_rows)"
   ]
  },
  {
   "cell_type": "code",
   "execution_count": 13,
   "id": "64f5a61b-de33-48b4-8325-e5478d182601",
   "metadata": {},
   "outputs": [
    {
     "data": {
      "text/html": [
       "<div>\n",
       "<style scoped>\n",
       "    .dataframe tbody tr th:only-of-type {\n",
       "        vertical-align: middle;\n",
       "    }\n",
       "\n",
       "    .dataframe tbody tr th {\n",
       "        vertical-align: top;\n",
       "    }\n",
       "\n",
       "    .dataframe thead th {\n",
       "        text-align: right;\n",
       "    }\n",
       "</style>\n",
       "<table border=\"1\" class=\"dataframe\">\n",
       "  <thead>\n",
       "    <tr style=\"text-align: right;\">\n",
       "      <th></th>\n",
       "      <th>caseid</th>\n",
       "      <th>min_map</th>\n",
       "      <th>mean_hr</th>\n",
       "      <th>max_spo2_drop</th>\n",
       "    </tr>\n",
       "  </thead>\n",
       "  <tbody>\n",
       "    <tr>\n",
       "      <th>0</th>\n",
       "      <td>3</td>\n",
       "      <td>-11.0</td>\n",
       "      <td>75.994703</td>\n",
       "      <td>23.0</td>\n",
       "    </tr>\n",
       "    <tr>\n",
       "      <th>1</th>\n",
       "      <td>6</td>\n",
       "      <td>NaN</td>\n",
       "      <td>87.104011</td>\n",
       "      <td>35.0</td>\n",
       "    </tr>\n",
       "    <tr>\n",
       "      <th>2</th>\n",
       "      <td>9</td>\n",
       "      <td>NaN</td>\n",
       "      <td>71.074227</td>\n",
       "      <td>18.0</td>\n",
       "    </tr>\n",
       "    <tr>\n",
       "      <th>3</th>\n",
       "      <td>14</td>\n",
       "      <td>-1.0</td>\n",
       "      <td>71.372080</td>\n",
       "      <td>32.0</td>\n",
       "    </tr>\n",
       "    <tr>\n",
       "      <th>4</th>\n",
       "      <td>23</td>\n",
       "      <td>NaN</td>\n",
       "      <td>79.651037</td>\n",
       "      <td>41.0</td>\n",
       "    </tr>\n",
       "    <tr>\n",
       "      <th>5</th>\n",
       "      <td>32</td>\n",
       "      <td>-1.0</td>\n",
       "      <td>65.264281</td>\n",
       "      <td>16.0</td>\n",
       "    </tr>\n",
       "    <tr>\n",
       "      <th>6</th>\n",
       "      <td>37</td>\n",
       "      <td>NaN</td>\n",
       "      <td>56.839971</td>\n",
       "      <td>24.0</td>\n",
       "    </tr>\n",
       "    <tr>\n",
       "      <th>7</th>\n",
       "      <td>48</td>\n",
       "      <td>NaN</td>\n",
       "      <td>62.122939</td>\n",
       "      <td>18.0</td>\n",
       "    </tr>\n",
       "    <tr>\n",
       "      <th>8</th>\n",
       "      <td>59</td>\n",
       "      <td>-91.0</td>\n",
       "      <td>79.784727</td>\n",
       "      <td>17.0</td>\n",
       "    </tr>\n",
       "    <tr>\n",
       "      <th>9</th>\n",
       "      <td>78</td>\n",
       "      <td>NaN</td>\n",
       "      <td>74.935754</td>\n",
       "      <td>19.0</td>\n",
       "    </tr>\n",
       "  </tbody>\n",
       "</table>\n",
       "</div>"
      ],
      "text/plain": [
       "   caseid  min_map    mean_hr  max_spo2_drop\n",
       "0       3    -11.0  75.994703           23.0\n",
       "1       6      NaN  87.104011           35.0\n",
       "2       9      NaN  71.074227           18.0\n",
       "3      14     -1.0  71.372080           32.0\n",
       "4      23      NaN  79.651037           41.0\n",
       "5      32     -1.0  65.264281           16.0\n",
       "6      37      NaN  56.839971           24.0\n",
       "7      48      NaN  62.122939           18.0\n",
       "8      59    -91.0  79.784727           17.0\n",
       "9      78      NaN  74.935754           19.0"
      ]
     },
     "execution_count": 13,
     "metadata": {},
     "output_type": "execute_result"
    }
   ],
   "source": [
    "summary_df"
   ]
  },
  {
   "cell_type": "markdown",
   "id": "93d4d641-90d2-425e-abfd-5b274152a427",
   "metadata": {},
   "source": [
    "#### Example Exploration 2"
   ]
  },
  {
   "cell_type": "code",
   "execution_count": 20,
   "id": "b2122838-e1c4-451d-9306-257262f123c5",
   "metadata": {},
   "outputs": [],
   "source": [
    "import pandas as pd\n",
    "from vitaldb import VitalFile, find_cases\n",
    "\n",
    "# Define key tracks for your project\n",
    "# TRACKS = ['HR', 'ART_MBP', 'PLETH_SPO2', 'NEPI_RATE', 'PROP_RATE']\n",
    "TRACKS = ['HR', 'ART_MBP']\n",
    "\n",
    "def load_vitaldb_eda_cases(num_cases=5):\n",
    "    \"\"\"\n",
    "    Load a few surgeries that contain all selected tracks.\n",
    "    Returns a dictionary mapping caseid to pandas DataFrame.\n",
    "    \"\"\"\n",
    "    eda_data = {}\n",
    "    caseids = find_cases(TRACKS)\n",
    "    print(f\"Found {len(caseids)} suitable cases. Loading {num_cases}...\")\n",
    "\n",
    "    for caseid in caseids[:num_cases]:\n",
    "        try:\n",
    "            vf = VitalFile(caseid, TRACKS)\n",
    "            df = vf.to_pandas(TRACKS, interval=1, return_datetime=True)\n",
    "            eda_data[caseid] = df\n",
    "        except Exception as e:\n",
    "            print(f\"Error loading case {caseid}: {e}\")\n",
    "\n",
    "    return eda_data"
   ]
  },
  {
   "cell_type": "code",
   "execution_count": 22,
   "id": "77273bd9-a6f0-46e4-9145-2f828a88afec",
   "metadata": {},
   "outputs": [
    {
     "name": "stdout",
     "output_type": "stream",
     "text": [
      "Found 3735 cases\n",
      "✅ Loaded case 1 with shape (10941, 3)\n",
      "✅ Loaded case 3 with shape (4394, 3)\n",
      "✅ Loaded case 4 with shape (20989, 3)\n",
      "✅ Loaded case 7 with shape (15222, 3)\n",
      "✅ Loaded case 10 with shape (20934, 3)\n"
     ]
    }
   ],
   "source": [
    "TRACKS = ['HR', 'ART_MBP']  # simpler test case\n",
    "caseids = find_cases(TRACKS)\n",
    "print(f\"Found {len(caseids)} cases\")\n",
    "\n",
    "for caseid in caseids[:5]:\n",
    "    try:\n",
    "        vf = VitalFile(caseid, TRACKS)\n",
    "        df = vf.to_pandas(TRACKS, interval=1, return_datetime=True)\n",
    "        print(f\"✅ Loaded case {caseid} with shape {df.shape}\")\n",
    "    except Exception as e:\n",
    "        print(f\"❌ Failed to load case {caseid}: {e}\")\n"
   ]
  },
  {
   "cell_type": "code",
   "execution_count": null,
   "id": "8c5d0cf3-fd8b-472a-a3e7-03945074094b",
   "metadata": {},
   "outputs": [],
   "source": []
  },
  {
   "cell_type": "code",
   "execution_count": 25,
   "id": "b0682caa-f62c-4a93-97d5-20f67f957bd0",
   "metadata": {},
   "outputs": [
    {
     "name": "stdout",
     "output_type": "stream",
     "text": [
      "✅ Loaded case 1 with shape (11453, 4)\n",
      "✅ Loaded case 3 with shape (4394, 4)\n",
      "✅ Loaded case 4 with shape (20989, 4)\n",
      "✅ Loaded case 7 with shape (15250, 4)\n",
      "✅ Loaded case 10 with shape (20934, 4)\n"
     ]
    }
   ],
   "source": [
    "TRACKS = ['HR', 'ART_MBP', 'PLETH_SPO2']\n",
    "caseids = find_cases(TRACKS)\n",
    "\n",
    "eda_cases = {}\n",
    "\n",
    "for caseid in caseids[:5]:\n",
    "    try:\n",
    "        vf = VitalFile(caseid, TRACKS)\n",
    "        df = vf.to_pandas(TRACKS, interval=1, return_datetime=True)\n",
    "        eda_cases[caseid] = df\n",
    "        print(f\"✅ Loaded case {caseid} with shape {df.shape}\")\n",
    "    except Exception as e:\n",
    "        print(f\"❌ Failed to load case {caseid}: {e}\")\n"
   ]
  },
  {
   "cell_type": "code",
   "execution_count": 26,
   "id": "7733efda-568d-425f-8b7a-cc279708e7c3",
   "metadata": {},
   "outputs": [
    {
     "data": {
      "image/png": "[encoded data removed]",
      "text/plain": [
       "<Figure size 1500x400 with 1 Axes>"
      ]
     },
     "metadata": {},
     "output_type": "display_data"
    },
    {
     "data": {
      "image/png": "[encoded data removed]",
      "text/plain": [
       "<Figure size 1500x400 with 1 Axes>"
      ]
     },
     "metadata": {},
     "output_type": "display_data"
    },
    {
     "data": {
      "image/png": "[encoded data removed]",
      "text/plain": [
       "<Figure size 1500x400 with 1 Axes>"
      ]
     },
     "metadata": {},
     "output_type": "display_data"
    },
    {
     "data": {
      "image/png": "[encoded data removed]",
      "text/plain": [
       "<Figure size 1500x400 with 1 Axes>"
      ]
     },
     "metadata": {},
     "output_type": "display_data"
    },
    {
     "data": {
      "image/png": "[encoded data removed]",
      "text/plain": [
       "<Figure size 1500x400 with 1 Axes>"
      ]
     },
     "metadata": {},
     "output_type": "display_data"
    }
   ],
   "source": [
    "import matplotlib.pyplot as plt\n",
    "\n",
    "for caseid, df in eda_cases.items():\n",
    "    df.plot(title=f\"Vitals for Case {caseid}\", figsize=(15, 4))\n",
    "    plt.axhline(65, color='red', linestyle='--', label='MAP = 65 mmHg')\n",
    "    plt.legend()\n",
    "    plt.show()"
   ]
  },
  {
   "cell_type": "code",
   "execution_count": 27,
   "id": "1784dc1f-23f6-4101-877b-9065e72a78a2",
   "metadata": {},
   "outputs": [
    {
     "data": {
      "image/png": "[encoded data removed]",
      "text/plain": [
       "<Figure size 1500x400 with 1 Axes>"
      ]
     },
     "metadata": {},
     "output_type": "display_data"
    }
   ],
   "source": [
    "df[['HR', 'ART_MBP', 'PLETH_SPO2']].plot(\n",
    "    figsize=(15, 4),\n",
    "    title=f\"Vitals for Case {caseid}\"\n",
    ")\n",
    "plt.axhline(65, color='red', linestyle='--', label='MAP = 65 mmHg')\n",
    "plt.ylabel(\"Vital Sign Values\")\n",
    "plt.legend()\n",
    "plt.show()"
   ]
  },
  {
   "cell_type": "code",
   "execution_count": null,
   "id": "355f0dd6-05b1-42ad-a9b1-a7f9db2f8b26",
   "metadata": {},
   "outputs": [],
   "source": []
  },
  {
   "cell_type": "markdown",
   "id": "c9f01bcb-40e4-4145-b993-2c63bb21cbcc",
   "metadata": {},
   "source": [
    "Let's list all surgery types and see what we've got."
   ]
  },
  {
   "cell_type": "code",
   "execution_count": 28,
   "id": "d87e111d-4d40-44a4-906b-f9d98036d723",
   "metadata": {},
   "outputs": [],
   "source": [
    "import pandas as pd\n",
    "\n",
    "cases = pd.read_csv('https://api.vitaldb.net/cases')"
   ]
  },
  {
   "cell_type": "code",
   "execution_count": 32,
   "id": "a7acb07f-10d7-416d-bb8b-6a3827925f40",
   "metadata": {},
   "outputs": [
    {
     "name": "stdout",
     "output_type": "stream",
     "text": [
      "Total unique operation names: 241\n",
      "Aneurysmal repair\n",
      "Breast-conserving surgery\n",
      "Cholecystectomy\n",
      "Distal gastrectomy\n",
      "Liver transplantation\n",
      "Low anterior resection\n",
      "Lung lobectomy\n",
      "Metastasectomy\n",
      "Subtotal gastrectomy\n",
      "Transurethral resection of bladder tumor\n"
     ]
    }
   ],
   "source": [
    "# Show unique operation names\n",
    "unique_ops = cases['opname'].dropna().unique()\n",
    "print(f\"Total unique operation names: {len(unique_ops)}\")\n",
    "for name in sorted(unique_ops[:10]):\n",
    "    print(name)"
   ]
  },
  {
   "cell_type": "code",
   "execution_count": 33,
   "id": "f4e8e551-a35e-4db4-9ad1-b6343f5ca0d4",
   "metadata": {},
   "outputs": [],
   "source": [
    "import pandas as pd\n",
    "\n",
    "# Load the cases metadata table\n",
    "cases_url = 'https://api.vitaldb.net/cases'\n",
    "cases = pd.read_csv(cases_url)\n",
    "\n",
    "# Group by 'opname' and count the number of cases per surgery type\n",
    "opname_counts = cases['opname'].value_counts().reset_index()\n",
    "opname_counts.columns = ['opname', 'count']"
   ]
  },
  {
   "cell_type": "code",
   "execution_count": 34,
   "id": "da98f775-9ef5-4b21-bc12-eb687a5da4af",
   "metadata": {},
   "outputs": [
    {
     "data": {
      "text/html": [
       "<div>\n",
       "<style scoped>\n",
       "    .dataframe tbody tr th:only-of-type {\n",
       "        vertical-align: middle;\n",
       "    }\n",
       "\n",
       "    .dataframe tbody tr th {\n",
       "        vertical-align: top;\n",
       "    }\n",
       "\n",
       "    .dataframe thead th {\n",
       "        text-align: right;\n",
       "    }\n",
       "</style>\n",
       "<table border=\"1\" class=\"dataframe\">\n",
       "  <thead>\n",
       "    <tr style=\"text-align: right;\">\n",
       "      <th></th>\n",
       "      <th>opname</th>\n",
       "      <th>count</th>\n",
       "    </tr>\n",
       "  </thead>\n",
       "  <tbody>\n",
       "    <tr>\n",
       "      <th>0</th>\n",
       "      <td>Cholecystectomy</td>\n",
       "      <td>503</td>\n",
       "    </tr>\n",
       "    <tr>\n",
       "      <th>1</th>\n",
       "      <td>Distal gastrectomy</td>\n",
       "      <td>342</td>\n",
       "    </tr>\n",
       "    <tr>\n",
       "      <th>2</th>\n",
       "      <td>Lung lobectomy</td>\n",
       "      <td>332</td>\n",
       "    </tr>\n",
       "    <tr>\n",
       "      <th>3</th>\n",
       "      <td>Breast-conserving surgery</td>\n",
       "      <td>295</td>\n",
       "    </tr>\n",
       "    <tr>\n",
       "      <th>4</th>\n",
       "      <td>Anterior resection</td>\n",
       "      <td>247</td>\n",
       "    </tr>\n",
       "    <tr>\n",
       "      <th>...</th>\n",
       "      <td>...</td>\n",
       "      <td>...</td>\n",
       "    </tr>\n",
       "    <tr>\n",
       "      <th>236</th>\n",
       "      <td>Diagnostic procedure</td>\n",
       "      <td>1</td>\n",
       "    </tr>\n",
       "    <tr>\n",
       "      <th>237</th>\n",
       "      <td>anterior resection</td>\n",
       "      <td>1</td>\n",
       "    </tr>\n",
       "    <tr>\n",
       "      <th>238</th>\n",
       "      <td>Resection of intestine</td>\n",
       "      <td>1</td>\n",
       "    </tr>\n",
       "    <tr>\n",
       "      <th>239</th>\n",
       "      <td>Sphincterotomy</td>\n",
       "      <td>1</td>\n",
       "    </tr>\n",
       "    <tr>\n",
       "      <th>240</th>\n",
       "      <td>Thyroidectomy</td>\n",
       "      <td>1</td>\n",
       "    </tr>\n",
       "  </tbody>\n",
       "</table>\n",
       "<p>241 rows × 2 columns</p>\n",
       "</div>"
      ],
      "text/plain": [
       "                        opname  count\n",
       "0              Cholecystectomy    503\n",
       "1           Distal gastrectomy    342\n",
       "2               Lung lobectomy    332\n",
       "3    Breast-conserving surgery    295\n",
       "4           Anterior resection    247\n",
       "..                         ...    ...\n",
       "236       Diagnostic procedure      1\n",
       "237         anterior resection      1\n",
       "238     Resection of intestine      1\n",
       "239             Sphincterotomy      1\n",
       "240              Thyroidectomy      1\n",
       "\n",
       "[241 rows x 2 columns]"
      ]
     },
     "execution_count": 34,
     "metadata": {},
     "output_type": "execute_result"
    }
   ],
   "source": [
    "opname_counts"
   ]
  },
  {
   "cell_type": "code",
   "execution_count": null,
   "id": "653ee869-913e-4451-a0a0-195c65878dd2",
   "metadata": {},
   "outputs": [],
   "source": []
  },
  {
   "cell_type": "code",
   "execution_count": null,
   "id": "ee466b3f-a7bc-45b0-b643-65f474c09fb7",
   "metadata": {},
   "outputs": [],
   "source": []
  },
  {
   "cell_type": "code",
   "execution_count": null,
   "id": "87066c88-e90e-4068-93b3-e62fde0778ea",
   "metadata": {},
   "outputs": [],
   "source": []
  },
  {
   "cell_type": "code",
   "execution_count": null,
   "id": "53b362b8-bb3b-49b0-a18c-438d87af1b1d",
   "metadata": {},
   "outputs": [],
   "source": []
  },
  {
   "cell_type": "code",
   "execution_count": null,
   "id": "3064151c-ba30-43de-bac9-71c852c3bd2b",
   "metadata": {},
   "outputs": [],
   "source": []
  },
  {
   "cell_type": "code",
   "execution_count": null,
   "id": "5c7bccfb-4d23-4eca-918c-25f48ef90789",
   "metadata": {},
   "outputs": [],
   "source": []
  },
  {
   "cell_type": "code",
   "execution_count": null,
   "id": "eb362aaa-b138-4ca4-8cf5-a3866ebdda7d",
   "metadata": {},
   "outputs": [],
   "source": []
  },
  {
   "cell_type": "code",
   "execution_count": null,
   "id": "69f09f5e-87ef-4076-b8f4-2fb3d18509af",
   "metadata": {},
   "outputs": [],
   "source": []
  },
  {
   "cell_type": "code",
   "execution_count": null,
   "id": "d005da7e-eadb-45b0-8f21-f2ef728c7e41",
   "metadata": {},
   "outputs": [],
   "source": []
  },
  {
   "cell_type": "code",
   "execution_count": null,
   "id": "2dbe9032-7628-4b84-8cff-87082b5b29fb",
   "metadata": {},
   "outputs": [],
   "source": []
  },
  {
   "cell_type": "code",
   "execution_count": null,
   "id": "e969adfd-8db9-4feb-9229-d24698b12eff",
   "metadata": {},
   "outputs": [],
   "source": []
  },
  {
   "cell_type": "code",
   "execution_count": null,
   "id": "a69965cd-485b-43bb-9732-9e1127e8783b",
   "metadata": {},
   "outputs": [],
   "source": []
  },
  {
   "cell_type": "code",
   "execution_count": null,
   "id": "e0d26003-78a7-4537-a043-dec647a971cb",
   "metadata": {},
   "outputs": [],
   "source": []
  },
  {
   "cell_type": "code",
   "execution_count": null,
   "id": "9d5e1644-d70c-469e-b860-c845b05ab5be",
   "metadata": {},
   "outputs": [],
   "source": []
  },
  {
   "cell_type": "code",
   "execution_count": null,
   "id": "5932646a-5dad-43da-8ba5-af6874004ae6",
   "metadata": {},
   "outputs": [],
   "source": []
  },
  {
   "cell_type": "code",
   "execution_count": null,
   "id": "01f3602d-8350-41b6-b919-eee7ea9b970c",
   "metadata": {},
   "outputs": [],
   "source": []
  },
  {
   "cell_type": "code",
   "execution_count": null,
   "id": "35636f63-30df-48a4-a825-fece41835616",
   "metadata": {},
   "outputs": [],
   "source": []
  },
  {
   "cell_type": "code",
   "execution_count": null,
   "id": "059270c7-340a-4e18-ab34-853241861c1b",
   "metadata": {},
   "outputs": [],
   "source": []
  },
  {
   "cell_type": "code",
   "execution_count": null,
   "id": "9b17ca06-71a7-403b-bec3-fd9ec7401703",
   "metadata": {},
   "outputs": [],
   "source": []
  },
  {
   "cell_type": "code",
   "execution_count": null,
   "id": "d11bfb24-9ced-41c0-8478-bd5365ee4a04",
   "metadata": {},
   "outputs": [],
   "source": []
  }
 ],
 "metadata": {
  "kernelspec": {
   "display_name": "Python 3 (ipykernel)",
   "language": "python",
   "name": "python3"
  },
  "language_info": {
   "codemirror_mode": {
    "name": "ipython",
    "version": 3
   },
   "file_extension": ".py",
   "mimetype": "text/x-python",
   "name": "python",
   "nbconvert_exporter": "python",
   "pygments_lexer": "ipython3",
   "version": "3.12.7"
  }
 },
 "nbformat": 4,
 "nbformat_minor": 5
}
